{
  "nbformat": 4,
  "nbformat_minor": 0,
  "metadata": {
    "colab": {
      "provenance": [],
      "authorship_tag": "ABX9TyOjGM5dWcsvDYpXh+rGbrml",
      "include_colab_link": true
    },
    "kernelspec": {
      "name": "python3",
      "display_name": "Python 3"
    },
    "language_info": {
      "name": "python"
    }
  },
  "cells": [
    {
      "cell_type": "markdown",
      "metadata": {
        "id": "view-in-github",
        "colab_type": "text"
      },
      "source": [
        "<a href=\"https://colab.research.google.com/github/stanislawWojtas/Data-Engineering/blob/main/Wyklad_2.ipynb\" target=\"_parent\"><img src=\"https://colab.research.google.com/assets/colab-badge.svg\" alt=\"Open In Colab\"/></a>"
      ]
    },
    {
      "cell_type": "markdown",
      "source": [
        "# Lecture 2"
      ],
      "metadata": {
        "id": "D8GwDyb3jxTy"
      }
    },
    {
      "cell_type": "markdown",
      "source": [
        "## Setting up your environment (how to use **Jupyter Notebook**)"
      ],
      "metadata": {
        "id": "X-sntrV7wFfE"
      }
    },
    {
      "cell_type": "markdown",
      "source": [
        "W'll mainly use jupyter nootebook (can do this in **google colab**)\n",
        "\n",
        "Name Jupyter comes from 3 programming languages: Julia 👚, Python🐍 and R ❌.\n",
        "**Jupyter Notebook** is a web-based REPL based on Interactive Python, used to create, view and run notebooks documents.\n",
        "\n",
        "**Jupyter Lab** is a newer version, user interface introduced in 2018.\n",
        "\n",
        "You can add code into notebook using (```)\n",
        "```sql\n",
        "SELECT * FROM users;\n",
        "```\n",
        "\n",
        "You can create a table in markdown using | :\n",
        "\n",
        "| Name | Surname | Gender | Age |\n",
        "|------|----------|------|------|\n",
        "| Maciej | Kowalski | M | 20 |\n",
        "| Agnieszka | Nowak | K | 15 |\n",
        "| Roksana | Lisek | K | 25 |"
      ],
      "metadata": {
        "id": "iUXzMrcqkdCL"
      }
    },
    {
      "cell_type": "markdown",
      "source": [
        "Each open notebook gets its own kernel.\n",
        "\n",
        "**JupyterHub** is a tool to run multiple JupyterLabs. It's nice way to colaborate with other people.\n"
      ],
      "metadata": {
        "id": "mkSNHRsqqvRR"
      }
    },
    {
      "cell_type": "code",
      "source": [
        "#!pip install folium\n",
        "import folium\n",
        "# Tworzenie mapy z początkową lokalizacją (np. Warszawa)\n",
        "m = folium.Map(location=[52.2298, 21.0118], zoom_start=12)\n",
        "\n",
        "# Dodanie markera\n",
        "folium.Marker([52.2298, 21.0118], popup=\"Warszawa\", tooltip=\"Kliknij!\").add_to(m)\n",
        "\n",
        "# Wyświetlenie mapy\n",
        "m"
      ],
      "metadata": {
        "colab": {
          "base_uri": "https://localhost:8080/",
          "height": 865
        },
        "id": "n-Bt5quVrsGP",
        "outputId": "6c35537a-9db5-4698-959f-f2dc4dcc626d"
      },
      "execution_count": 10,
      "outputs": [
        {
          "output_type": "execute_result",
          "data": {
            "text/plain": [
              "<folium.folium.Map at 0x7fba042eb090>"
            ],
            "text/html": [
              "<div style=\"width:100%;\"><div style=\"position:relative;width:100%;height:0;padding-bottom:60%;\"><span style=\"color:#565656\">Make this Notebook Trusted to load map: File -> Trust Notebook</span><iframe srcdoc=\"&lt;!DOCTYPE html&gt;\n",
              "&lt;html&gt;\n",
              "&lt;head&gt;\n",
              "    \n",
              "    &lt;meta http-equiv=&quot;content-type&quot; content=&quot;text/html; charset=UTF-8&quot; /&gt;\n",
              "    \n",
              "        &lt;script&gt;\n",
              "            L_NO_TOUCH = false;\n",
              "            L_DISABLE_3D = false;\n",
              "        &lt;/script&gt;\n",
              "    \n",
              "    &lt;style&gt;html, body {width: 100%;height: 100%;margin: 0;padding: 0;}&lt;/style&gt;\n",
              "    &lt;style&gt;#map {position:absolute;top:0;bottom:0;right:0;left:0;}&lt;/style&gt;\n",
              "    &lt;script src=&quot;https://cdn.jsdelivr.net/npm/leaflet@1.9.3/dist/leaflet.js&quot;&gt;&lt;/script&gt;\n",
              "    &lt;script src=&quot;https://code.jquery.com/jquery-3.7.1.min.js&quot;&gt;&lt;/script&gt;\n",
              "    &lt;script src=&quot;https://cdn.jsdelivr.net/npm/bootstrap@5.2.2/dist/js/bootstrap.bundle.min.js&quot;&gt;&lt;/script&gt;\n",
              "    &lt;script src=&quot;https://cdnjs.cloudflare.com/ajax/libs/Leaflet.awesome-markers/2.0.2/leaflet.awesome-markers.js&quot;&gt;&lt;/script&gt;\n",
              "    &lt;link rel=&quot;stylesheet&quot; href=&quot;https://cdn.jsdelivr.net/npm/leaflet@1.9.3/dist/leaflet.css&quot;/&gt;\n",
              "    &lt;link rel=&quot;stylesheet&quot; href=&quot;https://cdn.jsdelivr.net/npm/bootstrap@5.2.2/dist/css/bootstrap.min.css&quot;/&gt;\n",
              "    &lt;link rel=&quot;stylesheet&quot; href=&quot;https://netdna.bootstrapcdn.com/bootstrap/3.0.0/css/bootstrap-glyphicons.css&quot;/&gt;\n",
              "    &lt;link rel=&quot;stylesheet&quot; href=&quot;https://cdn.jsdelivr.net/npm/@fortawesome/fontawesome-free@6.2.0/css/all.min.css&quot;/&gt;\n",
              "    &lt;link rel=&quot;stylesheet&quot; href=&quot;https://cdnjs.cloudflare.com/ajax/libs/Leaflet.awesome-markers/2.0.2/leaflet.awesome-markers.css&quot;/&gt;\n",
              "    &lt;link rel=&quot;stylesheet&quot; href=&quot;https://cdn.jsdelivr.net/gh/python-visualization/folium/folium/templates/leaflet.awesome.rotate.min.css&quot;/&gt;\n",
              "    \n",
              "            &lt;meta name=&quot;viewport&quot; content=&quot;width=device-width,\n",
              "                initial-scale=1.0, maximum-scale=1.0, user-scalable=no&quot; /&gt;\n",
              "            &lt;style&gt;\n",
              "                #map_1facfdde4f86f0602732270d9c85bf16 {\n",
              "                    position: relative;\n",
              "                    width: 100.0%;\n",
              "                    height: 100.0%;\n",
              "                    left: 0.0%;\n",
              "                    top: 0.0%;\n",
              "                }\n",
              "                .leaflet-container { font-size: 1rem; }\n",
              "            &lt;/style&gt;\n",
              "        \n",
              "&lt;/head&gt;\n",
              "&lt;body&gt;\n",
              "    \n",
              "    \n",
              "            &lt;div class=&quot;folium-map&quot; id=&quot;map_1facfdde4f86f0602732270d9c85bf16&quot; &gt;&lt;/div&gt;\n",
              "        \n",
              "&lt;/body&gt;\n",
              "&lt;script&gt;\n",
              "    \n",
              "    \n",
              "            var map_1facfdde4f86f0602732270d9c85bf16 = L.map(\n",
              "                &quot;map_1facfdde4f86f0602732270d9c85bf16&quot;,\n",
              "                {\n",
              "                    center: [52.2298, 21.0118],\n",
              "                    crs: L.CRS.EPSG3857,\n",
              "                    ...{\n",
              "  &quot;zoom&quot;: 12,\n",
              "  &quot;zoomControl&quot;: true,\n",
              "  &quot;preferCanvas&quot;: false,\n",
              "}\n",
              "\n",
              "                }\n",
              "            );\n",
              "\n",
              "            \n",
              "\n",
              "        \n",
              "    \n",
              "            var tile_layer_701086a9463c5b0fe4a5dd6aedbb84a5 = L.tileLayer(\n",
              "                &quot;https://tile.openstreetmap.org/{z}/{x}/{y}.png&quot;,\n",
              "                {\n",
              "  &quot;minZoom&quot;: 0,\n",
              "  &quot;maxZoom&quot;: 19,\n",
              "  &quot;maxNativeZoom&quot;: 19,\n",
              "  &quot;noWrap&quot;: false,\n",
              "  &quot;attribution&quot;: &quot;\\u0026copy; \\u003ca href=\\&quot;https://www.openstreetmap.org/copyright\\&quot;\\u003eOpenStreetMap\\u003c/a\\u003e contributors&quot;,\n",
              "  &quot;subdomains&quot;: &quot;abc&quot;,\n",
              "  &quot;detectRetina&quot;: false,\n",
              "  &quot;tms&quot;: false,\n",
              "  &quot;opacity&quot;: 1,\n",
              "}\n",
              "\n",
              "            );\n",
              "        \n",
              "    \n",
              "            tile_layer_701086a9463c5b0fe4a5dd6aedbb84a5.addTo(map_1facfdde4f86f0602732270d9c85bf16);\n",
              "        \n",
              "    \n",
              "            var marker_32363a51888c69c26728abe81d7e4558 = L.marker(\n",
              "                [52.2298, 21.0118],\n",
              "                {\n",
              "}\n",
              "            ).addTo(map_1facfdde4f86f0602732270d9c85bf16);\n",
              "        \n",
              "    \n",
              "        var popup_8690a3aadef523e5fea05e0689908371 = L.popup({\n",
              "  &quot;maxWidth&quot;: &quot;100%&quot;,\n",
              "});\n",
              "\n",
              "        \n",
              "            \n",
              "                var html_6fb410493b1c1a1b2c9cdb7994af81d9 = $(`&lt;div id=&quot;html_6fb410493b1c1a1b2c9cdb7994af81d9&quot; style=&quot;width: 100.0%; height: 100.0%;&quot;&gt;Warszawa&lt;/div&gt;`)[0];\n",
              "                popup_8690a3aadef523e5fea05e0689908371.setContent(html_6fb410493b1c1a1b2c9cdb7994af81d9);\n",
              "            \n",
              "        \n",
              "\n",
              "        marker_32363a51888c69c26728abe81d7e4558.bindPopup(popup_8690a3aadef523e5fea05e0689908371)\n",
              "        ;\n",
              "\n",
              "        \n",
              "    \n",
              "    \n",
              "            marker_32363a51888c69c26728abe81d7e4558.bindTooltip(\n",
              "                `&lt;div&gt;\n",
              "                     Kliknij!\n",
              "                 &lt;/div&gt;`,\n",
              "                {\n",
              "  &quot;sticky&quot;: true,\n",
              "}\n",
              "            );\n",
              "        \n",
              "&lt;/script&gt;\n",
              "&lt;/html&gt;\" style=\"position:absolute;width:100%;height:100%;left:0;top:0;border:none !important;\" allowfullscreen webkitallowfullscreen mozallowfullscreen></iframe></div></div>"
            ]
          },
          "metadata": {},
          "execution_count": 10
        }
      ]
    },
    {
      "cell_type": "markdown",
      "source": [
        "You can downlad python script from jupyter notebook and use this as a normal python script.\n",
        "\n",
        "You can also download notebook as **markdown** file and code will be surrounded by ``` (code cells)."
      ],
      "metadata": {
        "id": "g05Dv7QFvkMp"
      }
    },
    {
      "cell_type": "markdown",
      "source": [
        "Math expression can be added into markdown:\n",
        "\n",
        "$$E = m c^2$$"
      ],
      "metadata": {
        "id": "XmRA_S83w5O3"
      }
    },
    {
      "cell_type": "markdown",
      "source": [
        "## Data in jupyter"
      ],
      "metadata": {
        "id": "QJkEd4BsxiH4"
      }
    },
    {
      "cell_type": "code",
      "source": [
        "import pandas as pd\n",
        "import numpy as np\n",
        "import matplotlib.pyplot as plt\n",
        "import re"
      ],
      "metadata": {
        "id": "_luljAcLzKiq"
      },
      "execution_count": 11,
      "outputs": []
    },
    {
      "cell_type": "code",
      "source": [
        "s = pd.Series(['joe@here.com', 'jane@there.com', 'not.an@email'])\n",
        "s.str.match(\n",
        "    r\"^[a-zA-Z0-9_.+-]+@[a-zA-Z0-9-]+\\.[a-zA-Z0-9-.]+$\"\n",
        ")"
      ],
      "metadata": {
        "colab": {
          "base_uri": "https://localhost:8080/",
          "height": 178
        },
        "id": "lCFVqfqv0VzB",
        "outputId": "67cbb982-2cbd-4842-f26a-fdbbcc34a209"
      },
      "execution_count": 12,
      "outputs": [
        {
          "output_type": "execute_result",
          "data": {
            "text/plain": [
              "0     True\n",
              "1     True\n",
              "2    False\n",
              "dtype: bool"
            ],
            "text/html": [
              "<div>\n",
              "<style scoped>\n",
              "    .dataframe tbody tr th:only-of-type {\n",
              "        vertical-align: middle;\n",
              "    }\n",
              "\n",
              "    .dataframe tbody tr th {\n",
              "        vertical-align: top;\n",
              "    }\n",
              "\n",
              "    .dataframe thead th {\n",
              "        text-align: right;\n",
              "    }\n",
              "</style>\n",
              "<table border=\"1\" class=\"dataframe\">\n",
              "  <thead>\n",
              "    <tr style=\"text-align: right;\">\n",
              "      <th></th>\n",
              "      <th>0</th>\n",
              "    </tr>\n",
              "  </thead>\n",
              "  <tbody>\n",
              "    <tr>\n",
              "      <th>0</th>\n",
              "      <td>True</td>\n",
              "    </tr>\n",
              "    <tr>\n",
              "      <th>1</th>\n",
              "      <td>True</td>\n",
              "    </tr>\n",
              "    <tr>\n",
              "      <th>2</th>\n",
              "      <td>False</td>\n",
              "    </tr>\n",
              "  </tbody>\n",
              "</table>\n",
              "</div><br><label><b>dtype:</b> bool</label>"
            ]
          },
          "metadata": {},
          "execution_count": 12
        }
      ]
    },
    {
      "cell_type": "markdown",
      "source": [
        "#### Mapping strings to numbers"
      ],
      "metadata": {
        "id": "GpQdc9e51iaP"
      }
    },
    {
      "cell_type": "code",
      "source": [
        "# we can use dictionary to map string to numbers\n",
        "# df.col_name.map({\n",
        "#     'male': 0,\n",
        "#     'female': 1\n",
        "# })"
      ],
      "metadata": {
        "id": "aYhAaEPz0-o1"
      },
      "execution_count": 13,
      "outputs": []
    },
    {
      "cell_type": "markdown",
      "source": [
        "Sometimes mapping strings to numbers is not the best idea, for example with colours you can map red:0, blue:1, green:2 etc. but it can create bias towards some colours (red has value 0).\n",
        "\n",
        "Thats why we can use **.get_dummies()** function"
      ],
      "metadata": {
        "id": "WKkGSL-r2eIJ"
      }
    }
  ]
}
